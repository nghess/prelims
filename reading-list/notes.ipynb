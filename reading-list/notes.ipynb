{
 "cells": [
  {
   "cell_type": "markdown",
   "metadata": {},
   "source": [
    "### Jacobs, 2022 Proust Hypothesis\n",
    "Points out that olfaction is neglected in embodied cognition, and any model of embodied cognition should include olfaction, as it is one of the most closely shared sensory modalities across mammals. The PROUST acronym is \"perceiving and recontructing odor utility in space and time\". Jacobs argues that olfaction fits the key emobodied cognition trait of \"mutual manipulability\", meaning that it is a sensory modality that can be manipulated by the agent and that can be used to manipulate the environment. --This includes the very literal manipulation of the environment, as olfactory sampling requires that the agent harvests particles from the environment, while also manipulating the fluid dynamics of the air as it actively senses.\n",
    "#### Takeaways:\n",
    "- Memory of olfactory stimuli are encoded with great emotional valency than the visual or auditory components of the same stimuli. (Herz 2012,2016; Kantaris et al. 2020)\n",
    "- Olfaction plays an important role in spatial orientation (\"directional olfaction\").\n",
    "- Relative size of the olfactory system can be explained by a species ability to orient using odors.\n",
    "- Uses the 4e framework:\n",
    "    - Embodiment: Cognition is constrained by the morphology and competencies of the body.\n",
    "    - Embedding: The physical environment shapes the cognitive load.\n",
    "    - Enaction: Cognition is grounded in the body's mutual interaction with the environment.\n",
    "    - Extended: The environmental resources that enhance the cognitive capacities of an agent are constituents of a larger cognitive system, and the agent's cognitive system is a part of the larger environment.\n",
    "- Sociochemicals act as public records of information, similar to written language for humans.\n",
    "- Cetaceans lack a vomeronasal organ, and have reduced olfactory systems. They also have relatively small hippocampi, despite having strong navigational abilities.\n",
    "    - Echolocation may have offset the need for olfaction in cetaceans, and provides a superior orienting mechanism for aquatic navigation."
   ]
  },
  {
   "cell_type": "markdown",
   "metadata": {},
   "source": [
    "### Kleinfeld, 2014, Breathing as a binder of orofacial sensation\n",
    "Contends that the breather rhythm serves as a common clock binding olfaction and vibrissae-based sensation.\n",
    "#### Takeaways:\n",
    "- The observation of precise phase locking between sniffing and exploratory whisking leads to the hypothesis that the breathing rhythm functions as a reference oscillation for the alignment of commensurate signals.\n",
    "- The vmPFC is a possible locus of touch and taste input with smell.\n"
   ]
  },
  {
   "cell_type": "markdown",
   "metadata": {},
   "source": [
    "### Green et al. 2023, Why is everyone talking about brain state?\n",
    "Discusses how various metrics of neural activity fail to characterize brain state effectively. Asserts that understanding brain state is critical to neuroscience, and that in order to characterize it, we need to integrate data across spatiotemporal scales, and with careful use of task-based perturbations.\n",
    "#### Takeaways:\n",
    "- Working across species (e.g, humans and rodents) and modalities may allow characterization of conserved brain states from the macro (fMRI) to mechanistic (single unit) level common to both species.\n",
    "    - Such a research program would likely apply a common task to both species.\n",
    "    - Such an approach was taken in [Barron et al. 2020](#Barron-etal_2020)\n",
    "- The authors propose that a unifying concept of a brain state would provide a high-value target for neuroscience, and that individual studies should be designed to identify common brain states.\n",
    "- Brain states are multiplexed. Are behavioral states always multiplexed?\n"
   ]
  }
 ],
 "metadata": {
  "language_info": {
   "name": "python"
  }
 },
 "nbformat": 4,
 "nbformat_minor": 2
}

{
 "cells": [
  {
   "cell_type": "markdown",
   "metadata": {},
   "source": [
    "### Smear et al. 2011, Perception of sniff phase in mouse olfaction\n",
    "#### Takeaways:\n",
    "- The olfactory system encodes spatiotemporally-precise information about the timing of odor and air inputs.\n",
    "#### Citation:\n",
    "- This rich information could be useful in the construction of a cognitive map, particularly in mice, as olfactory perceptions dominate their sensory landscape. Temporally-precise tuning of M/T cells could ground olfactory inputs in the temporal sequence of self-action (locomotion, head direction.)"
   ]
  },
  {
   "cell_type": "markdown",
   "metadata": {},
   "source": [
    "### Kleinfeld, 2014, Breathing as a binder of orofacial sensation\n",
    "Contends that the breathing rhythm serves as a common clock binding olfaction and vibrissae-based sensation.\n",
    "#### Takeaways:\n",
    "- The observation of precise phase locking between sniffing and exploratory whisking leads to the hypothesis that the breathing rhythm functions as a reference oscillation for the alignment of commensurate signals.\n",
    "- The vmPFC is a possible locus of touch and taste input with smell.\n",
    "### Citation:\n",
    "- ?\n",
    "\n"
   ]
  },
  {
   "cell_type": "markdown",
   "metadata": {},
   "source": [
    "### Kleinfeld et al., 2016, Whisking, Sniffing, and the Hippocampal θ-Rhythm: A Tale of Two Oscillators\n",
    "\n",
    "Discusses the possibility that the preBötzinger inspiration oscillator, which paces whisking, can selectively lock with the θ-rhythm to\n",
    "traffic sensorimotor information between the rat’s neocortex and hippocampus.\n",
    "\n",
    "Takeaways:\n",
    "- Whisking is tied to sniffing via a common clock in the preBötzinger complex.\n",
    "- Sniffing is phased locked to the theta rhythm, particularily in epochs of active sampling.\n",
    "\n",
    "Citation:\n",
    "- The Theta oscillation may serve as a selective transporter of task-relevant sensory information to the hippocampus, likely sustaining working memory.\n",
    "- Sniffing and hippocampal theta phase-lock during periods of active sampling (Macrides). "
   ]
  },
  {
   "cell_type": "markdown",
   "metadata": {},
   "source": [
    "#### Poo et al., 2020"
   ]
  },
  {
   "cell_type": "markdown",
   "metadata": {},
   "source": [
    "### Jacobs, 2022 Proust Hypothesis\n",
    "Points out that olfaction is neglected in embodied cognition, and any model of embodied cognition should include olfaction, as it is one of the most closely shared sensory modalities across mammals. The PROUST acronym is \"perceiving and recontructing odor utility in space and time\". Jacobs argues that olfaction fits the key emobodied cognition trait of \"mutual manipulability\", meaning that it is a sensory modality that can be manipulated by the agent and that can be used to manipulate the environment. --This includes the very literal manipulation of the environment, as olfactory sampling requires that the agent harvests particles from the environment, while also manipulating the fluid dynamics of the air as it actively senses.\n",
    "#### Takeaways:\n",
    "- Memory of olfactory stimuli are encoded with great emotional valency than the visual or auditory components of the same stimuli. (Herz 2012,2016; Kantaris et al. 2020)\n",
    "- Olfaction plays an important role in spatial orientation (\"directional olfaction\").\n",
    "- Relative size of the olfactory system can be explained by a species ability to orient using odors.\n",
    "- Uses the 4e framework:\n",
    "    - Embodiment: Cognition is constrained by the morphology and competencies of the body.\n",
    "    - Embedding: The physical environment shapes the cognitive load.\n",
    "    - Enaction: Cognition is grounded in the body's mutual interaction with the environment.\n",
    "    - Extended: The environmental resources that enhance the cognitive capacities of an agent are constituents of a larger cognitive system, and the agent's cognitive system is a part of the larger environment.\n",
    "- Sociochemicals act as public records of information, similar to written language for humans.\n",
    "- Cetaceans lack a vomeronasal organ, and have reduced olfactory systems. They also have relatively small hippocampi, despite having strong navigational abilities.\n",
    "    - Echolocation may have offset the need for olfaction in cetaceans, and provides a superior orienting mechanism for aquatic navigation."
   ]
  },
  {
   "cell_type": "markdown",
   "metadata": {},
   "source": [
    "### Green et al. 2023, Why is everyone talking about brain state?\n",
    "Discusses how various metrics of neural activity fail to characterize brain state effectively. Asserts that understanding brain state is critical to neuroscience, and that in order to characterize it, we need to integrate data across spatiotemporal scales, and with careful use of task-based perturbations.\n",
    "#### Takeaways:\n",
    "- Working across species (e.g, humans and rodents) and modalities may allow characterization of conserved brain states from the macro (fMRI) to mechanistic (single unit) level common to both species.\n",
    "    - Such a research program would likely apply a common task to both species.\n",
    "    - Such an approach was taken in [Barron et al. 2020](#Barron-etal_2020)\n",
    "- The authors propose that a unifying concept of a brain state would provide a high-value target for neuroscience, and that individual studies should be designed to identify common brain states.\n",
    "- Brain states are multiplexed. Are behavioral states always multiplexed?\n"
   ]
  }
 ],
 "metadata": {
  "kernelspec": {
   "display_name": "base",
   "language": "python",
   "name": "python3"
  },
  "language_info": {
   "name": "python",
   "version": "3.10.12"
  }
 },
 "nbformat": 4,
 "nbformat_minor": 2
}
